{
 "cells": [
  {
   "cell_type": "code",
   "execution_count": 8,
   "id": "20782f51-04f1-4203-8246-fbf3b4f07fc0",
   "metadata": {},
   "outputs": [],
   "source": [
    "import pandas as pd\n",
    "import numpy as np\n",
    "from pathlib import Path\n",
    "import itertools"
   ]
  },
  {
   "cell_type": "code",
   "execution_count": 13,
   "id": "995891b7-018c-49c1-b383-3f850fb75f0c",
   "metadata": {},
   "outputs": [
    {
     "data": {
      "text/plain": [
       "['...', '...', '...', '...', '...', '...', '...']"
      ]
     },
     "execution_count": 13,
     "metadata": {},
     "output_type": "execute_result"
    }
   ],
   "source": []
  },
  {
   "cell_type": "code",
   "execution_count": 14,
   "id": "c16ed68b-c4b6-4ece-9a9e-634eefd40595",
   "metadata": {},
   "outputs": [
    {
     "name": "stdout",
     "output_type": "stream",
     "text": [
      "  subject_id    norms_id   i1   i2   i3  ...  i34\n",
      "0      A0001  ita_comm_m    1    2    3  ...    0\n",
      "1      A0002  ita_comm_f    1    2    3  ...    0\n",
      "0        ...         ...  ...  ...  ...  ...  ...\n"
     ]
    }
   ],
   "source": [
    "df = pd.read_csv(\"core_data.csv\")\n",
    "columns_slicer = list(range(0,5)) + [-1]\n",
    "header = df.iloc[0, columns_slicer].index.to_list()\n",
    "header = header[:-1] + [\"...\"] + [header[-1]]\n",
    "rows = df.iloc[0:5, columns_slicer]\n",
    "rows.insert(rows.shape[1]-1, \"...\", \"...\")\n",
    "if df.shape[0] > 1:\n",
    "    new_row = pd.DataFrame([[\"...\"]*len(rows.columns)], columns=rows.columns)\n",
    "    rows = pd.concat([ rows, new_row ])\n",
    "print(rows)"
   ]
  },
  {
   "cell_type": "code",
   "execution_count": null,
   "id": "bb9c1e77-fd61-48a4-aaee-5526d01dcc95",
   "metadata": {},
   "outputs": [],
   "source": []
  }
 ],
 "metadata": {
  "kernelspec": {
   "display_name": "Python 3 (ipykernel)",
   "language": "python",
   "name": "python3"
  },
  "language_info": {
   "codemirror_mode": {
    "name": "ipython",
    "version": 3
   },
   "file_extension": ".py",
   "mimetype": "text/x-python",
   "name": "python",
   "nbconvert_exporter": "python",
   "pygments_lexer": "ipython3",
   "version": "3.13.2"
  }
 },
 "nbformat": 4,
 "nbformat_minor": 5
}
